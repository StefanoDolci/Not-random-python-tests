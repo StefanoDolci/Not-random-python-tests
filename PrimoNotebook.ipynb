{
 "cells": [
  {
   "cell_type": "markdown",
   "metadata": {},
   "source": [
    "# Test vari di python\n",
    "\n",
    "- librerie utili\n"
   ]
  },
  {
   "cell_type": "code",
   "execution_count": null,
   "metadata": {},
   "outputs": [
    {
     "data": {
      "text/latex": [
       "$\\displaystyle \\sin{\\left(x \\right)} + \\cos{\\left(y \\right)}$"
      ],
      "text/plain": [
       "sin(x) + cos(y)"
      ]
     },
     "metadata": {},
     "output_type": "display_data"
    }
   ],
   "source": [
    "import numpy as np\n",
    "import pandas as pd\n",
    "from scipy import constants, integrate, optimize, linalg\n",
    "import sympy as sp\n",
    "from sympy import init_printing\n",
    "\n",
    "import matplotlib.pyplot as plt\n",
    "\n",
    "# Initialize pretty printing for LaTeX\n",
    "init_printing(use_latex='mathjax')\n",
    "\n",
    "# Example usage of sympy for symbolic mathematics\n",
    "x, y = sp.symbols('x y')\n",
    "expr = sp.sin(x) + sp.cos(y)\n",
    "display(expr)\n",
    "\n",
    "\n",
    "\n",
    "plt."
   ]
  }
 ],
 "metadata": {
  "kernelspec": {
   "display_name": "Python 3",
   "language": "python",
   "name": "python3"
  },
  "language_info": {
   "codemirror_mode": {
    "name": "ipython",
    "version": 3
   },
   "file_extension": ".py",
   "mimetype": "text/x-python",
   "name": "python",
   "nbconvert_exporter": "python",
   "pygments_lexer": "ipython3",
   "version": "3.13.0"
  }
 },
 "nbformat": 4,
 "nbformat_minor": 2
}
