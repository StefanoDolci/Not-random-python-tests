{
 "cells": [
  {
   "cell_type": "markdown",
   "metadata": {},
   "source": [
    "# Test vari di python\n",
    "\n",
    "- librerie utili\n",
    "- "
   ]
  },
  {
   "cell_type": "code",
   "execution_count": null,
   "metadata": {},
   "outputs": [],
   "source": [
    "import numpy as np\n",
    "import pandas as pd\n",
    "from scipy import constants, integrate, optimize, linalg\n",
    "import sympy as sp\n",
    "from sympy import init_printing\n",
    "\n",
    "import matplotlib.pyplot as plt\n",
    "\n",
    "# Initialize pretty printing for LaTeX\n",
    "init_printing(use_latex='mathjax')\n",
    "\n",
    "# Example usage of sympy for symbolic mathematics\n",
    "x, y = sp.symbols('x y')\n",
    "expr = sp.sin(x) + sp.cos(y)\n",
    "display(expr)"
   ]
  }
 ],
 "metadata": {
  "language_info": {
   "name": "python"
  }
 },
 "nbformat": 4,
 "nbformat_minor": 2
}
